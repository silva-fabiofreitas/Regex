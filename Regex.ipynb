{
 "cells": [
  {
   "cell_type": "markdown",
   "id": "cc76bb9e-377b-445a-9be9-a1682c76f723",
   "metadata": {},
   "source": [
    "# Sumário\n",
    "**1 [Caracteres](#S1)  \n",
    "2 [Conjuntos](#S2)  \n",
    "3 [Quantificadores](#S3)  \n",
    "4 [Grupos](#S4)  \n",
    "5 [Bordas](#S5)  \n",
    "6 [Receitas]** "
   ]
  },
  {
   "cell_type": "code",
   "execution_count": 1,
   "id": "f8c08431-5ae6-4666-9838-9874f4a4212a",
   "metadata": {},
   "outputs": [],
   "source": [
    "import re"
   ]
  },
  {
   "cell_type": "markdown",
   "id": "2de80103-7443-44ef-aa01-c0e63dcc1bba",
   "metadata": {},
   "source": [
    "<a id=\"S1\"></a>\n",
    "# 1. Caracteres"
   ]
  },
  {
   "cell_type": "markdown",
   "id": "27d36501-22eb-42a4-8697-096c668620af",
   "metadata": {},
   "source": [
    "### Meta-caracter ."
   ]
  },
  {
   "cell_type": "code",
   "execution_count": 52,
   "id": "0f33a453-0e11-4435-aeea-7a032bba3512",
   "metadata": {},
   "outputs": [
    {
     "name": "stdout",
     "output_type": "stream",
     "text": [
      "['1,2']\n",
      "[]\n",
      "['1,2,']\n",
      "------------------\n",
      "['8.3', '8.8']\n",
      "['8.3', '7.1', '8.8', '0.0']\n",
      "------------------\n",
      "['.mp3', '.mp3', '.mp3', '.mp3']\n"
     ]
    }
   ],
   "source": [
    "texto = '1,2,3,4,5,6,7,8,9'\n",
    "\n",
    "print(re.findall('1.2', texto, flags=re.I))\n",
    "print(re.findall('1..2', texto, flags=re.I))\n",
    "print(re.findall('1..,', texto, flags=re.I))\n",
    "print('------------------')\n",
    "notas = '8.3,7.1,8.8,10.0'\n",
    "print(re.findall('8..', notas, flags=re.I))\n",
    "print(re.findall('.\\..', notas, flags=re.I))\n",
    "print('------------------')\n",
    "texto = 'lista de arquivos mp3: jazz.mp3, rocky.mp3, podcast.mp3, blues.mp3'\n",
    "print(re.findall('\\.mp3', texto, flags=re.I))\n"
   ]
  },
  {
   "cell_type": "markdown",
   "id": "c75a8b35-d1e0-4a49-ba9d-4011423c556a",
   "metadata": {},
   "source": [
    "### Caractere brancos"
   ]
  },
  {
   "cell_type": "code",
   "execution_count": 73,
   "id": "0959d0e5-42f8-430f-a04f-b23af41d1d21",
   "metadata": {},
   "outputs": [
    {
     "name": "stdout",
     "output_type": "stream",
     "text": [
      "['ca\\tr\\nr\\to s!']\n"
     ]
    }
   ],
   "source": [
    "texto = \"\"\"\n",
    "ca\tr\n",
    "r\to s!\n",
    "\"\"\"\n",
    "    \n",
    "print(re.findall(\"ca\\tr\\nr\\to\\ss!\", texto, flags=re.I))"
   ]
  },
  {
   "cell_type": "code",
   "execution_count": 78,
   "id": "fb3d3c15-71bf-48dd-bdd7-8270593dbc60",
   "metadata": {},
   "outputs": [
    {
     "name": "stdout",
     "output_type": "stream",
     "text": [
      "['a   b']\n",
      "['a   b']\n",
      "['a   b']\n",
      "['a   b']\n"
     ]
    }
   ],
   "source": [
    "texto = 'a   b'\n",
    "    \n",
    "print(re.findall('a\\s\\s\\sb', texto, flags=re.I))\n",
    "print(re.findall('a\\s+b', texto, flags=re.I))\n",
    "print(re.findall('a {3}b', texto, flags=re.I))\n",
    "print(re.findall('a\\s{3}b', texto, flags=re.I))"
   ]
  },
  {
   "cell_type": "markdown",
   "id": "8ba5c6f1-ba8c-48c2-a6c2-f12011bc572b",
   "metadata": {},
   "source": [
    "### Meta-caracteres:Pipe(Ou)"
   ]
  },
  {
   "cell_type": "code",
   "execution_count": 79,
   "id": "e0a44778-e1c0-43a4-902f-e747cb35d9de",
   "metadata": {},
   "outputs": [
    {
     "data": {
      "text/plain": [
       "['sim', 'não', 'não', 'sei']"
      ]
     },
     "execution_count": 79,
     "metadata": {},
     "output_type": "execute_result"
    }
   ],
   "source": [
    "texto = 'voccê precisa responder sim, não ou não sei'\n",
    "\n",
    "re.findall('sim|não|sei', texto)"
   ]
  },
  {
   "cell_type": "markdown",
   "id": "883c472d-0c4b-4aeb-aa17-92e1f79da1b0",
   "metadata": {},
   "source": [
    "### Entendendo o problema com ponto\n"
   ]
  },
  {
   "cell_type": "code",
   "execution_count": 90,
   "id": "a2c5cf82-c167-4c77-ab5e-8c71d9b53f95",
   "metadata": {},
   "outputs": [
    {
     "name": "stdout",
     "output_type": "stream",
     "text": [
      "['Bom', 'dia']\n",
      "['Bom\\ndia']\n"
     ]
    }
   ],
   "source": [
    "texto = 'Bom\\ndia'\n",
    "# O pnto não engloba o \\n\n",
    "print(re.findall('...', texto))\n",
    "# Em python pode usar a flag abaixo\n",
    "print(re.findall('.......', texto, flags=re.I|re.S))"
   ]
  },
  {
   "cell_type": "markdown",
   "id": "a44ee4d8-307f-4341-a96e-14577e1b5c39",
   "metadata": {},
   "source": [
    "### [Unicode](https://unicode-table.com/pt/)  \n",
    "Unicode é o padrão de codificação de caracteres  \n",
    "Quantidade de bits variável e expansivel   \n",
    "Suporta mais de 1.000.000 de caracteres\n"
   ]
  },
  {
   "cell_type": "code",
   "execution_count": 13,
   "id": "005fea1c-6777-4672-b5ca-258d140db3bf",
   "metadata": {},
   "outputs": [
    {
     "name": "stdout",
     "output_type": "stream",
     "text": [
      "['ø', 'µ']\n"
     ]
    }
   ],
   "source": [
    "texto = 'øalfaµ'\n",
    "\n",
    "print(re.findall('\\u00B5|ø', texto))\n"
   ]
  },
  {
   "cell_type": "markdown",
   "id": "bbf97e3a-478d-467f-8b0e-70cf7141588d",
   "metadata": {},
   "source": [
    "<a id=\"S2\"></a>\n",
    "# 2. Conjuntos\n",
    "Para definir uma classe ou conjunto de caracteres usas-e [ ]"
   ]
  },
  {
   "cell_type": "code",
   "execution_count": 18,
   "id": "9a63b4aa-605e-4351-9eff-014c3b156c63",
   "metadata": {},
   "outputs": [
    {
     "name": "stdout",
     "output_type": "stream",
     "text": [
      "['1', '2', '3']\n",
      "['Fá', 'nã', 'na', 'Fl']\n"
     ]
    }
   ],
   "source": [
    "texto = '1,2,3,4 av['\n",
    "print(re.findall('[0123]', texto))\n",
    "texto = 'Fábio não vai na moto com Flavio'\n",
    "print(re.findall('n[aã]|F[ál]', texto))"
   ]
  },
  {
   "cell_type": "markdown",
   "id": "415512b1-9a3a-4455-9248-3659ff5b8cd7",
   "metadata": {},
   "source": [
    "### Intervalos"
   ]
  },
  {
   "cell_type": "code",
   "execution_count": 23,
   "id": "5d150dbf-d0c5-4ad3-aac0-9f91f39fbff0",
   "metadata": {},
   "outputs": [
    {
     "name": "stdout",
     "output_type": "stream",
     "text": [
      "['a', 'b', 'c', 'd', 'e', 'f']\n",
      "['b', 'c', 'd']\n",
      "['2', '3']\n",
      "['1', '2', '3', 'e', 'f']\n"
     ]
    }
   ],
   "source": [
    "texto = '1,2,3, ab,c,d[e] f'\n",
    "print(re.findall('[A-Z]', texto, flags=re.I))\n",
    "print(re.findall('[b-d]', texto,))\n",
    "print(re.findall('[2-4]', texto,))\n",
    "print(re.findall('[e-f1-3]', texto,))"
   ]
  },
  {
   "cell_type": "markdown",
   "id": "89552556-05e0-4d9a-bb83-bc9c4e0f93a4",
   "metadata": {},
   "source": [
    "### Conjuntos e Meta-caracteres"
   ]
  },
  {
   "cell_type": "code",
   "execution_count": 27,
   "id": "3a09bf87-1e0f-464f-ac30-87f0e76397f0",
   "metadata": {},
   "outputs": [
    {
     "name": "stdout",
     "output_type": "stream",
     "text": [
      "['.', '$', '+', '*', '?', '-']\n",
      "['.', '$', '+', '*', '?', '-']\n",
      "['$', '?', '-']\n",
      "['$', '?', '-']\n"
     ]
    }
   ],
   "source": [
    "texto = '.$+*?-'\n",
    "print(re.findall('[.$+*?-]', texto)) # Não precisa de escape dentro do conjunto, exceto alguns caracteres\n",
    "print(re.findall('[$-?]', texto)) #  Aceita intervalo\n",
    "\n",
    "# Não é intervalo\n",
    "print(re.findall('[$\\-?]', texto))\n",
    "print(re.findall('[-$?]', texto))"
   ]
  },
  {
   "cell_type": "markdown",
   "id": "94d198fa-8aae-450e-959f-16e3aec279b0",
   "metadata": {},
   "source": [
    "### Alguns cuidados com intervalos\n",
    "Os intervalos usam a ordem da tabela unicode <https://unicode-table.com/pt/> "
   ]
  },
  {
   "cell_type": "code",
   "execution_count": 7,
   "id": "4695e279-d7c1-47b8-864a-e030813db8eb",
   "metadata": {},
   "outputs": [
    {
     "name": "stdout",
     "output_type": "stream",
     "text": [
      "['a', 'b', 'c', 'a', 'c']\n",
      "['a-c']\n",
      "['A', 'B', 'C', '[', 'a', 'b', 'c', ']', 'a', 'c']\n",
      "['A', 'B', 'C', 'a', 'b', 'c', 'a', 'c']\n"
     ]
    }
   ],
   "source": [
    "texto = 'ABC [abc] a-c 1234'\n",
    "print(re.findall('[a-c]', texto))\n",
    "print(re.findall('a-c', texto))\n",
    "print(re.findall('[A-z]', texto)) # Entre A-z existe outros elementos, ver tabela unicode\n",
    "print(re.findall('[a-zA-Z]', texto))\n",
    "# Errado \n",
    " # print(re.findall('[a-Z]', texto)) A ordem do conjunto está incorreta\n",
    " # print(re.findall('[4-1]', texto))"
   ]
  },
  {
   "cell_type": "markdown",
   "id": "66244b01-8c00-4a9c-ab49-340e12af36e0",
   "metadata": {},
   "source": [
    "### Shortshands"
   ]
  },
  {
   "cell_type": "code",
   "execution_count": 16,
   "id": "8d9c9f36-488d-450d-a03f-84afae8e7d5b",
   "metadata": {},
   "outputs": [
    {
     "name": "stdout",
     "output_type": "stream",
     "text": [
      "['1', '2', '3', '4', '5', '6']\n",
      "[',', ',', ',', ',', ',', ',', 'a', ',', 'b', ' ', 'c', '!', 'd', '?', 'e', '\\r', '\\t', '\\n', 'f', '_', 'g', '\\n']\n",
      "\n",
      "['1', '2', '3', '4', '5', '6', 'a', 'b', 'c', 'd', 'e', 'f', '_', 'g']\n",
      "[',', ',', ',', ',', ',', ',', ',', ' ', '!', '?', '\\r', '\\t', '\\n', '\\n']\n",
      "\n",
      "[' ', '\\r', '\\t', '\\n', '\\n']\n",
      "['1', ',', '2', ',', '3', ',', '4', ',', '5', ',', '6', ',', 'a', ',', 'b', 'c', '!', 'd', '?', 'e', 'f', '_', 'g']\n"
     ]
    }
   ],
   "source": [
    "texto = \"\"\"1,2,3,4,5,6,a,b c!d?e\\r\t\n",
    "f_g\n",
    "\"\"\"\n",
    "\n",
    "print(re.findall('\\d',texto)) # Números [0-9]\n",
    "print(re.findall('\\D',texto)) # Não números [^0-9]\n",
    "print()\n",
    "print(re.findall('\\w',texto)) # Caracteres [a-zA-Z0-9_]\n",
    "print(re.findall('\\W',texto)) # Não caracteres [^a-zA-Z0-9_]\n",
    "print()\n",
    "print(re.findall('\\s',texto)) # espaço [\\t\\n\\r\\f]\n",
    "print(re.findall('\\S',texto)) # Não espaço [^\\t\\n\\r\\f]"
   ]
  },
  {
   "cell_type": "markdown",
   "id": "22c2eb8e-5ecc-4c98-b895-a8bf142e1888",
   "metadata": {},
   "source": [
    "### Conjuntos negados"
   ]
  },
  {
   "cell_type": "code",
   "execution_count": 31,
   "id": "3d6db9b9-3c79-4e87-a49f-08d289dcd4f7",
   "metadata": {},
   "outputs": [
    {
     "name": "stdout",
     "output_type": "stream",
     "text": [
      "[',', ',', ',', 'a', '.', 'b', ' ', 'c', '!', 'd', '?', 'e', '[', 'f']\n",
      "[',', ',', ',', 'a', '.', 'b', ' ', 'c', '!', 'd', '?', 'e', '[', 'f']\n",
      "['a', 'b', 'c', 'd', 'e', 'f']\n",
      "\n",
      "['1', '2']\n"
     ]
    }
   ],
   "source": [
    "texto = '1,2,3,a.b c!d?e[f'\n",
    "print(re.findall('\\D',texto)) # Não números [^0-9]\n",
    "print(re.findall('[^0-9]',texto)) # Não números [^0-9]\n",
    "print(re.findall('[^\\d!\\?\\[\\s,.]',texto))\n",
    "texto = '1: !\"#$&\\'()*+,-./ 2:;<=>?@'\n",
    "print()\n",
    "print(re.findall('[^!-/:-@\\s]',texto)) # !-/, :-@ são intervalos ver tabela unicode\n"
   ]
  },
  {
   "cell_type": "markdown",
   "id": "69db903e-e428-47a7-bbf9-a2125a001c24",
   "metadata": {},
   "source": [
    "### Seleção de intervalos Unicode "
   ]
  },
  {
   "cell_type": "code",
   "execution_count": 38,
   "id": "b3c2f649-2bcb-4120-bc00-96d06ba435b1",
   "metadata": {},
   "outputs": [
    {
     "name": "stdout",
     "output_type": "stream",
     "text": [
      "['á', 'é', 'í', 'ó', 'ú', 'à', 'è', 'ì', 'ò', 'ù', 'â', 'ê', 'î', 'ô', 'û', 'ç', 'ã', 'õ', 'ü']\n",
      "['á', 'é', 'í', 'ó', 'ú', 'à', 'è', 'ì', 'ò', 'ù', 'â', 'ê', 'î', 'ô', 'û', 'ç', 'ã', 'õ', 'ü']\n"
     ]
    }
   ],
   "source": [
    "texto = 'áéíóú àèìòù âêîôû ç ãõ ü' \n",
    "print(re.findall('[à-ü]',texto))\n",
    "print(re.findall('[À-ü]',texto))"
   ]
  },
  {
   "cell_type": "markdown",
   "id": "957f322a-2e5f-4d0b-b816-f576773f4401",
   "metadata": {},
   "source": [
    "<a id=\"S3\"></a>\n",
    "# 3. Quantificadores\n",
    "     \n",
    "<span style=\"color:#f6060\">Metacaracteres - Quantificadores: </spann>   \n",
    "\n",
    "\n",
    "| Metacaracteres | Nome | Significado |\n",
    "| -------------- | ---- | ----------- |\n",
    "| ? | Opcional | Zero ou um |\n",
    "| * | Asterisco | Zero ou mais |\n",
    "| + | Mais | Um ou mais |\n",
    "|{n,m} | Chaves | De n até m |\n"
   ]
  },
  {
   "cell_type": "markdown",
   "id": "e3cd4066-8e63-452d-8580-308120fcfae1",
   "metadata": {},
   "source": [
    "### Zero ou um (opecional) \"**?**\""
   ]
  },
  {
   "cell_type": "code",
   "execution_count": 6,
   "id": "507e3872-3f68-427e-acdd-677dbf28f213",
   "metadata": {},
   "outputs": [
    {
     "name": "stdout",
     "output_type": "stream",
     "text": [
      "['fogo', 'FOGO']\n",
      "['fog']\n"
     ]
    }
   ],
   "source": [
    "texto1 = 'Delonge eu avistei o fogo e uma pessoal gritando: FOGOOOOO!'\n",
    "texto2= 'There is a big fog in NYC'\n",
    "print(re.findall('fogo?' ,texto1, re.I))\n",
    "print(re.findall('fogo?' ,texto2, re.I))"
   ]
  },
  {
   "cell_type": "markdown",
   "id": "7c124147-be4c-4cf8-bf3a-77bcd175722f",
   "metadata": {},
   "source": [
    "### Um ou mais \"**+**\""
   ]
  },
  {
   "cell_type": "code",
   "execution_count": 18,
   "id": "fca9015c-7a56-4347-bc61-5f3cf021d0e3",
   "metadata": {},
   "outputs": [
    {
     "name": "stdout",
     "output_type": "stream",
     "text": [
      "['fogo', 'FOGOOOOO']\n",
      "[]\n",
      "\n",
      "['5', '1', '2', '3', '4', '5', '6', '7', '8', '9', '4', '5', '6']\n",
      "['5123456789', '456']\n"
     ]
    }
   ],
   "source": [
    "texto1 = 'Delonge eu avistei o fogo e uma pessoal gritando: FOGOOOOO!'\n",
    "texto2= 'There is a big fog in NYC'\n",
    "print(re.findall('fogo+' ,texto1, re.I))\n",
    "print(re.findall('fogo+' ,texto2, re.I))\n",
    "print()\n",
    "texto3 = '5123456789. 456'\n",
    "print(re.findall('[0-9]' ,texto3, re.I))\n",
    "print(re.findall('[0-9]+' ,texto3, re.I))"
   ]
  },
  {
   "cell_type": "markdown",
   "id": "a36e6bba-3098-415a-a889-b2d42e499840",
   "metadata": {},
   "source": [
    "### Zero ou mais <b>\"*\"</b>"
   ]
  },
  {
   "cell_type": "code",
   "execution_count": 19,
   "id": "0adceeb8-975d-4986-8148-402f7fefd8a4",
   "metadata": {},
   "outputs": [
    {
     "name": "stdout",
     "output_type": "stream",
     "text": [
      "['fogo', 'FOGOOOOO']\n",
      "['fog']\n"
     ]
    }
   ],
   "source": [
    "texto1 = 'Delonge eu avistei o fogo e uma pessoal gritando: FOGOOOOO!'\n",
    "texto2= 'There is a big fog in NYC'\n",
    "print(re.findall('fogo*' ,texto1, re.I))\n",
    "print(re.findall('fogo*' ,texto2, re.I))"
   ]
  },
  {
   "cell_type": "markdown",
   "id": "a39a9343-5e10-4aa8-ae6d-6b5393efa3f8",
   "metadata": {},
   "source": [
    "### Usando chaves {}"
   ]
  },
  {
   "cell_type": "code",
   "execution_count": 15,
   "id": "4eaa110a-e345-48c4-b941-188dc3c5b4a9",
   "metadata": {},
   "outputs": [
    {
     "name": "stdout",
     "output_type": "stream",
     "text": [
      "['12', '0', '6', '9', '21', '23', '45', '46']\n",
      "['12', '21', '23', '45', '46']\n",
      "['120', '6', '9', '21', '23', '45', '46']\n",
      "['120', '6', '9', '21', '23', '45', '46']\n",
      "\n",
      "['O', 'João', 'recebeu', '120', 'milhões', 'apostando', '6', '9', '21', '23', '45', '46']\n",
      "['recebeu', 'milhões', 'apostan']\n",
      "['recebeu', 'milhões', 'apostando']\n",
      "['recebeu', 'milhões', 'apostando']\n"
     ]
    }
   ],
   "source": [
    "texto = 'O João recebeu 120 milhões apostando 6 9 21 23 45 46.'\n",
    "print(re.findall('\\d{1,2}' ,texto, re.I))\n",
    "print(re.findall('[0-9]{2}' ,texto, re.I))\n",
    "print(re.findall('\\d{1,}' ,texto, re.I))\n",
    "print(re.findall('\\d+' ,texto, re.I))\n",
    "print()\n",
    "print(re.findall('\\w+' ,texto, re.I))\n",
    "print(re.findall('\\w{7}' ,texto, re.I))\n",
    "print(re.findall(r'[\\w]{7,}' ,texto, re.I))\n",
    "print(re.findall(r'[\\wãõ]{7,}' ,texto, re.I)) # Em outras linguagens será necessario adicionar \"ãõ\" "
   ]
  },
  {
   "cell_type": "markdown",
   "id": "6380b41d-f047-4af0-ace9-0fc8d862297f",
   "metadata": {},
   "source": [
    "### Gusolo vs não guloso"
   ]
  },
  {
   "cell_type": "code",
   "execution_count": 49,
   "id": "8023aab2-0b89-4e1f-88ec-da75fba3cbe7",
   "metadata": {},
   "outputs": [
    {
     "name": "stdout",
     "output_type": "stream",
     "text": [
      "['<div>Conteudo 01</div><div>Conteudo 02</div>']\n",
      "['<div>Conteudo 01</div><div>Conteudo 02</div>']\n",
      "['<div>Conteudo 01</div><div>Conteudo 02</div>']\n"
     ]
    }
   ],
   "source": [
    "texto = '<div>Conteudo 01</div><div>Conteudo 02</div>asb,cd!'\n",
    "# Guloso\n",
    "print(re.findall('<div>.+</div>', texto))\n",
    "print(re.findall('<div>.*</div>', texto))\n",
    "print(re.findall('<div>.{0,100}</div>', texto))"
   ]
  },
  {
   "cell_type": "markdown",
   "id": "1323458b-de5b-4540-adac-bd1788c895e2",
   "metadata": {},
   "source": [
    "Não guloso, ira ajudar a pegar cada conteudo separadamente"
   ]
  },
  {
   "cell_type": "code",
   "execution_count": 20,
   "id": "47010007-069c-4d63-9ab5-5ba880a243db",
   "metadata": {},
   "outputs": [
    {
     "name": "stdout",
     "output_type": "stream",
     "text": [
      "['<div>Conteudo 01</div>', '<div>Conteudo 02</div>']\n",
      "['<div>Conteudo 01</div>', '<div>Conteudo 02</div>']\n",
      "['<div>Conteudo 01</div>', '<div>Conteudo 02</div>']\n"
     ]
    }
   ],
   "source": [
    "print(re.findall('<div>.+?</div>', texto))\n",
    "print(re.findall('<div>.*?</div>', texto))\n",
    "print(re.findall('<div>.{0,100}?</div>', texto))"
   ]
  },
  {
   "cell_type": "markdown",
   "id": "fff6c3a1-0db8-4e6a-a4a5-3ce81784ef16",
   "metadata": {},
   "source": [
    "### Desafio CPF"
   ]
  },
  {
   "cell_type": "code",
   "execution_count": 69,
   "id": "3747e638-a7ee-4881-8840-8b594bb0485c",
   "metadata": {},
   "outputs": [
    {
     "name": "stdout",
     "output_type": "stream",
     "text": [
      "['052.353.825-10', '025.456.789-3']\n"
     ]
    }
   ],
   "source": [
    "texto =\"\"\"\n",
    "CPF dos candidatos são:\n",
    " -052.353.825-10\n",
    " - 025.456.789-3\n",
    "\"\"\"\n",
    "\n",
    "print(re.findall('\\d{3}\\.\\d{3}\\.\\d{3}-[0-9]{1,2}' ,texto))"
   ]
  },
  {
   "cell_type": "markdown",
   "id": "8a36e0b2-d0b8-499e-a81d-dba0331865f8",
   "metadata": {},
   "source": [
    "### Desafio Telefone"
   ]
  },
  {
   "cell_type": "code",
   "execution_count": 92,
   "id": "1bcc2962-4b97-40c3-8cca-95cbc51c55be",
   "metadata": {},
   "outputs": [
    {
     "name": "stdout",
     "output_type": "stream",
     "text": [
      "['(22) 99880-9088', '9758-6941', '(21) 3214-5623', '(73)98845-9658', ' 885496321']\n",
      "['(22) 99880-9088', '9758-6941', '(21) 3214-5623', '(73)98845-9658', '885496321']\n"
     ]
    }
   ],
   "source": [
    "texto =\"\"\"\n",
    "Telefones:\n",
    " (22) 99880-9088\n",
    " -9758-6941\n",
    " (21) 3214-5623\n",
    " (73)98845-9658\n",
    " 885496321\n",
    "\"\"\"\n",
    "\n",
    "print(re.findall('\\(?\\d{0,2}\\)?\\s?\\d{4,5}-?\\d{4}', texto))\n",
    "print(re.findall('\\(?\\d{2}\\)? ?\\d{4,5}-?\\d{4}|\\d{4,5}-?\\d{4,5}', texto))"
   ]
  },
  {
   "cell_type": "markdown",
   "id": "86c8d8bf-05c0-458d-842f-1554b5c45747",
   "metadata": {},
   "source": [
    "### Desafio Emails"
   ]
  },
  {
   "cell_type": "code",
   "execution_count": 7,
   "id": "012bb2cd-4ade-41de-a78c-d2363d3f0e1a",
   "metadata": {},
   "outputs": [
    {
     "name": "stdout",
     "output_type": "stream",
     "text": [
      "['fabio1_freitas@hotmail.com', 'fulano@cod3r.com.br', 'raraiken@gmail.com', 'joao@empresa.info.br', 'maria_silva@registros.br', 'rafa.sampaio@yahoo.com']\n",
      "['fabio1_freitas@hotmail.com', 'fulano@cod3r.com.br', 'raraiken@gmail.com', 'joao@empresa.info.br', 'maria_silva@registros.br', 'rafa.sampaio@yahoo.com']\n"
     ]
    }
   ],
   "source": [
    "texto=\"\"\"\n",
    "Os e-mails dos convidados são:\n",
    " - fabio1_freitas@hotmail.com\n",
    " - fulano@cod3r.com.br\n",
    " - raraiken@gmail.com\n",
    " - joao@empresa.info.br\n",
    " - maria_silva@registros.br\n",
    " - rafa.sampaio@yahoo.com\n",
    "\"\"\"\n",
    "\n",
    "print(re.findall('\\w+\\.?\\w+\\@\\w+\\.\\w+\\.?\\w{0,5}', texto))\n",
    "print(re.findall('[\\w.]+\\@\\w+\\.\\w{2,4}\\.?\\w{0,5}', texto))"
   ]
  },
  {
   "cell_type": "markdown",
   "id": "55fc7df2-1e9e-4a13-b7ad-bd55e1a88420",
   "metadata": {},
   "source": [
    "<a id=\"S4\"></a>\n",
    "# 3. Grupos"
   ]
  },
  {
   "cell_type": "markdown",
   "id": "5f38e40e-fa6f-408d-b5a5-f6e12e9c5d61",
   "metadata": {},
   "source": [
    "### Usando grupos"
   ]
  },
  {
   "cell_type": "code",
   "execution_count": 5,
   "id": "a92fe674-bbd9-4db1-8f16-b1e71c51a69a",
   "metadata": {},
   "outputs": [
    {
     "name": "stdout",
     "output_type": "stream",
     "text": [
      "['heheheheheHE']\n"
     ]
    },
    {
     "data": {
      "text/plain": [
       "['heheheheheHE']"
      ]
     },
     "execution_count": 5,
     "metadata": {},
     "output_type": "execute_result"
    }
   ],
   "source": [
    "texto = 'José Simão é muito engraçado... heheheheheHE'\n",
    "print(re.findall('((?:he)+)', texto, re.I))\n",
    "matches = re.finditer('(he)+', texto, re.I)\n",
    "[match.group() for match in matches]"
   ]
  },
  {
   "cell_type": "code",
   "execution_count": 69,
   "id": "01df303a-3f3f-485b-acbd-3057a321457a",
   "metadata": {},
   "outputs": [
    {
     "name": "stdout",
     "output_type": "stream",
     "text": [
      "[('http://', 'www.', ''), ('', 'www.', '.br'), ('', '', '.ag')]\n"
     ]
    }
   ],
   "source": [
    "texto = 'http://www.site.info www.escola.ninja.br google.com.ag'\n",
    "print(re.findall('(http://)?(www\\.)?\\w+\\.\\w{2,}(\\.\\w{2})?', texto))"
   ]
  },
  {
   "cell_type": "code",
   "execution_count": 11,
   "id": "8d88ea71-0074-46cb-b29d-9baa3f2074d0",
   "metadata": {},
   "outputs": [
    {
     "name": "stdout",
     "output_type": "stream",
     "text": [
      "['http://www.site.info', 'www.escola.ninja.br', 'google.com.ag']\n"
     ]
    },
    {
     "data": {
      "text/plain": [
       "['http://www.site.info', 'www.escola.ninja.br', 'google.com.ag']"
      ]
     },
     "execution_count": 11,
     "metadata": {},
     "output_type": "execute_result"
    }
   ],
   "source": [
    "texto = \"http://www.site.info www.escola.ninja.br google.com.ag\"\n",
    "print(re.findall('((?:http://)?(?:www\\.)?\\w+\\.\\w{2,}(?:\\.\\w{2})?)', texto, re.I))\n",
    "matches = re.finditer(r\"(http://)?(www\\.)?\\w+\\.\\w{2,}(\\.\\w{2})?\", texto, re.MULTILINE)\n",
    "[match.group() for match in matches]"
   ]
  },
  {
   "cell_type": "markdown",
   "id": "5e9c3fa2-6594-4fa7-96d2-378f6f099083",
   "metadata": {},
   "source": [
    "### Grupos e retrovisores"
   ]
  },
  {
   "cell_type": "code",
   "execution_count": 69,
   "id": "fc7ee5ac-b587-438b-b0c1-737dd0510c83",
   "metadata": {},
   "outputs": [
    {
     "name": "stdout",
     "output_type": "stream",
     "text": [
      "['<b>Destaque</b>', '<strong>Forte</strong>', '<div>Conteudo</div>']\n",
      "\n",
      "['Lentamente']\n",
      "['Lentamente é mente muito lenta.']\n",
      "['Lentamente é mente']\n"
     ]
    }
   ],
   "source": [
    "texto = '<b>Destaque</b><strong>Forte</strong><div>Conteudo</div>'\n",
    "matches = re.finditer(r'<(\\w+)>.*</\\1>', texto)\n",
    "print([match.group() for match in matches])\n",
    "print()\n",
    "texto = 'Lentamente é mente muito lenta.'\n",
    "matches = re.finditer(r'(lenta)(mente)', texto, re.I)\n",
    "print([match.group() for match in matches])\n",
    "matches = re.finditer(r'(lenta)(mente).*\\2.*\\1\\.', texto, re.I)\n",
    "print([match.group() for match in matches])\n",
    "matches = re.finditer(r'(?:lenta)(mente).*\\1', texto, re.I) # ?: não guarda na memoria o grupo\n",
    "print([match.group() for match in matches])"
   ]
  },
  {
   "cell_type": "markdown",
   "id": "eabed8c0-73c5-4139-a02c-1eeaf9da3aa2",
   "metadata": {},
   "source": [
    "### Grupos aninhados"
   ]
  },
  {
   "cell_type": "code",
   "execution_count": 77,
   "id": "15b9400b-5c17-4383-b3f3-9de5b5d9db53",
   "metadata": {},
   "outputs": [
    {
     "name": "stdout",
     "output_type": "stream",
     "text": [
      "['supermercado', 'hipermercado', 'minimercado', 'mercado']\n",
      "['supermercado', 'hipermercado', 'minimercado', 'mercado']\n"
     ]
    }
   ],
   "source": [
    "texto = 'supermercado hipermercado minimercado mercado'\n",
    "matches = re.finditer('(super|hiper|mini)?mercado', texto)\n",
    "print([match.group() for match in matches])\n",
    "matches = re.finditer('((su|hi)per|mini)?mercado', texto)\n",
    "print([match.group() for match in matches])"
   ]
  },
  {
   "cell_type": "markdown",
   "id": "e0a10b2d-8ba0-41fb-a4ae-cc59d6dc3c2e",
   "metadata": {},
   "source": [
    "### Grupos cuidados!!"
   ]
  },
  {
   "cell_type": "code",
   "execution_count": 9,
   "id": "69240783-b3b0-42de-bf0b-4e8c42cbad30",
   "metadata": {},
   "outputs": [
    {
     "name": "stdout",
     "output_type": "stream",
     "text": [
      "['(', 'a', ')', 'a', 'b', 'c']\n",
      "['a', 'a', 'b', 'c']\n",
      "['ABCabc']\n"
     ]
    }
   ],
   "source": [
    "texto = 'Pedrinho (filho do Pedro Silva) e doutor do ABCabc'\n",
    "matches = re.finditer('[(abc)]', texto) # Não é grupo\n",
    "print([match.group() for match in matches])\n",
    "matches = re.finditer('([abc])', texto) # É grupo, posso ter um conjunto dentro de um grupo\n",
    "print([match.group() for match in matches])\n",
    "matches = re.finditer('(abc)+', texto, re.I) \n",
    "print([match.group() for match in matches])"
   ]
  },
  {
   "cell_type": "markdown",
   "id": "57106d7a-8098-457d-871b-d8dc52f2055f",
   "metadata": {},
   "source": [
    "### Grupos especiais "
   ]
  },
  {
   "cell_type": "code",
   "execution_count": 12,
   "id": "14df72f5-a464-4f35-95f2-4e4003f35337",
   "metadata": {},
   "outputs": [
    {
     "name": "stdout",
     "output_type": "stream",
     "text": [
      "['João', 'é', 'calmo', 'mas', 'no', 'transito', 'fica', 'nervoso']\n"
     ]
    }
   ],
   "source": [
    "texto = 'João é calmo, mas no transito fica nervoso'\n",
    "matches = re.finditer('[\\wÀ-ù]+', texto) # Não é grupo\n",
    "print([match.group() for match in matches])"
   ]
  },
  {
   "cell_type": "markdown",
   "id": "998a6747-298d-4231-97f0-988e0266b8da",
   "metadata": {},
   "source": [
    "**Positive lookahead**"
   ]
  },
  {
   "cell_type": "code",
   "execution_count": 28,
   "id": "1756ec2a-6390-4189-8001-04bf4c49088b",
   "metadata": {},
   "outputs": [
    {
     "name": "stdout",
     "output_type": "stream",
     "text": [
      "['calmo']\n",
      "['nervoso']\n",
      "['calmo']\n"
     ]
    }
   ],
   "source": [
    "matches = re.finditer('[\\wÀ-ù]+(?=,)', texto) # Encontra qualquer palavra que seja precedida de virgula\n",
    "print([match.group() for match in matches])\n",
    "matches = re.finditer('[\\wÀ-ù]+(?=\\.)', texto) # ... precedida de ponto\n",
    "print([match.group() for match in matches])\n",
    "matches = re.finditer('[\\wÀ-ù]+(?=, mas)', texto) # Encontra qualquer palavra que seja precedida de virgula\n",
    "print([match.group() for match in matches])"
   ]
  },
  {
   "cell_type": "markdown",
   "id": "0c05dc13-ab25-4271-b49e-a9e44be4a519",
   "metadata": {},
   "source": [
    "**Negative lookahead**"
   ]
  },
  {
   "cell_type": "code",
   "execution_count": 37,
   "id": "666856ee-3ac0-4dc7-bae7-2f3952175466",
   "metadata": {},
   "outputs": [
    {
     "name": "stdout",
     "output_type": "stream",
     "text": [
      "['João', 'é', 'mas', 'no', 'transito', 'fica', 'nervoso']\n",
      "['João ', 'é ', 'mas ', 'no ', 'transito ', 'fica ', 'nervoso.']\n"
     ]
    }
   ],
   "source": [
    "matches = re.finditer(r'[\\wÀ-ù]+\\b(?!,)', texto) # Obs.: Em javascript ou PHP não pegaria o é \n",
    "print([match.group() for match in matches])\n",
    "matches = re.finditer(r'[\\wÀ-ù]+[\\s\\.](?!\\,)', texto)\n",
    "print([match.group() for match in matches])\n"
   ]
  },
  {
   "cell_type": "markdown",
   "id": "ac54edf0-0ca6-4e55-a0a4-43bb405a9229",
   "metadata": {},
   "source": [
    "**Positive lookbehind**"
   ]
  },
  {
   "cell_type": "code",
   "execution_count": 38,
   "id": "47ea34bb-24ad-4640-b7bd-7c652d088ec7",
   "metadata": {},
   "outputs": [
    {
     "name": "stdout",
     "output_type": "stream",
     "text": [
      "['mercado', 'ação']\n"
     ]
    }
   ],
   "source": [
    "texto = 'supermercado superação hiperMERCADO mercado'\n",
    "matches = re.finditer('(?<=super)[\\wÀ-ù]+', texto)\n",
    "print([match.group() for match in matches])"
   ]
  },
  {
   "cell_type": "markdown",
   "id": "110cb506-7353-4dd1-b54c-e0fbe8a13332",
   "metadata": {},
   "source": [
    "**Negative lookbehind**"
   ]
  },
  {
   "cell_type": "code",
   "execution_count": 43,
   "id": "6d052917-73e8-4b3b-ae21-ce789822d254",
   "metadata": {},
   "outputs": [
    {
     "name": "stdout",
     "output_type": "stream",
     "text": [
      "['supermercado', 'superação', 'hiperMERCADO', 'mercado']\n"
     ]
    }
   ],
   "source": [
    "texto = 'supermercado superação hiperMERCADO mercado'\n",
    "matches = re.finditer('(?<!super)mercado', texto, re.I)\n",
    "print([match.group() for match in matches])"
   ]
  },
  {
   "cell_type": "markdown",
   "id": "7441d62c-0104-4bc3-bf2c-a8df2d22ceb5",
   "metadata": {},
   "source": [
    "<div id=\"S5\"></div>\n",
    "\n",
    "# Bordas"
   ]
  },
  {
   "cell_type": "code",
   "execution_count": 41,
   "id": "0076406d-60b8-4666-b67c-fd3de52ebb68",
   "metadata": {},
   "outputs": [
    {
     "name": "stdout",
     "output_type": "stream",
     "text": [
      "['R', 'r', 'r', 'r', 'r']\n",
      "['R']\n",
      "['r']\n",
      "[]\n",
      "['Romario era um excelente jogador']\n",
      "['Romario era um excelente jogador\\n, mas hoje é um político questionador']\n",
      "['Romario era um excelente jogador\\n, mas hoje é um político questionador']\n"
     ]
    }
   ],
   "source": [
    "texto = 'Romario era um excelente jogador\\n, mas hoje é um político questionador'\n",
    "print(re.findall('r', texto, re.I))\n",
    "print(re.findall('^r', texto, re.I)) # ^ inicio da linha/string \n",
    "print(re.findall('r$', texto, re.I)) # $ fim da linha/string\n",
    "\n",
    "print(re.findall('^r.*r$', texto, re.I)) # \n",
    "print(re.findall('^r.*r$', texto, re.I|re.M)) # \n",
    "print(re.findall('^r.*r$', texto, re.I|re.S)) # resolve o \\n\n",
    "print(re.findall('^r[\\s\\S]*r$', texto, re.I)) # resolve o \\n"
   ]
  },
  {
   "cell_type": "markdown",
   "id": "0e2162b5-6ed9-4bb1-a3ca-861f3a659f23",
   "metadata": {},
   "source": [
    "### Multiline"
   ]
  },
  {
   "cell_type": "code",
   "execution_count": 84,
   "id": "17202350-5f08-4ad9-ace8-b85c6aea7e30",
   "metadata": {},
   "outputs": [
    {
     "name": "stdout",
     "output_type": "stream",
     "text": [
      "['\\n', '\\n', '\\n', '\\n']\n",
      "['Leo é muito legal', 'Emanuel foi jogar em Sergipe', 'Bianca é casada com Habib']\n",
      "['Leo é muito legal', 'Emanuel foi jogar em Sergipe', 'Bianca é casada com Habib']\n"
     ]
    }
   ],
   "source": [
    "texto = \"\"\"\n",
    "Leo é muito legal\n",
    "Emanuel foi jogar em Sergipe\n",
    "Bianca é casada com Habib\n",
    "\"\"\"\n",
    "\n",
    "print(re.findall('\\n', texto))\n",
    "print(re.findall(r\"(^(?:\\w).+$)\", texto, re.M|re.I))\n",
    "matches = re.finditer(regex, texto, re.M | re.I)\n",
    "print([match.group() for match in matches])"
   ]
  },
  {
   "cell_type": "markdown",
   "id": "a5b6a7e5-ac18-41cf-9fdd-5ec400aa1ea2",
   "metadata": {},
   "source": [
    "## Bordas de palavras"
   ]
  },
  {
   "cell_type": "code",
   "execution_count": 93,
   "id": "ee1d4d0b-4401-4bb5-bc1d-3b9f24491e87",
   "metadata": {},
   "outputs": [
    {
     "name": "stdout",
     "output_type": "stream",
     "text": [
      "['dia', 'diatonico', 'diafragma']\n",
      "['media', 'wikipedia', 'bom_dia', 'melodia']\n",
      "['dia']\n",
      "['radial']\n"
     ]
    }
   ],
   "source": [
    "texto = 'dia diatonico diafragma media wikipedia bom_dia melodia radial'\n",
    "\n",
    "print(re.findall(r'\\bdia\\w*', texto)) # dá match em palavra que iniciam com dia\n",
    "print(re.findall(r'\\w+dia\\b', texto)) # \n",
    "print(re.findall(r'\\bdia\\b', texto)) # \n",
    "print(re.findall(r'\\w+dia\\w+', texto))"
   ]
  },
  {
   "cell_type": "markdown",
   "id": "ec0f773c-acba-4f46-97ea-51a60131d228",
   "metadata": {},
   "source": [
    "**Acentos**. borda não é \\w, e, sim [^A-Za-z0-9_] "
   ]
  },
  {
   "cell_type": "code",
   "execution_count": 102,
   "id": "b5d3d482-84aa-47b5-b14f-79d724b9bf98",
   "metadata": {},
   "outputs": [
    {
     "name": "stdout",
     "output_type": "stream",
     "text": [
      "['dia', 'dia', 'dia', 'dia']\n",
      "['dia', 'diatônico', 'diafragma,', 'média', 'wikipédia', 'bom-dia', 'melodia', 'radial']\n",
      "['dia', 'diatônico', 'diafragma', 'média', 'wikipédia', 'bom-dia', 'melodia', 'radial']\n"
     ]
    }
   ],
   "source": [
    "texto = 'dia diatônico diafragma, média wikipédia bom-dia melodia radial'\n",
    "\n",
    "print(re.findall(r'\\bdia\\b', texto, re.A)) # a modifier: ascii. Force the escape sequences \\w, \\W, \\b, \\B, \\d, \\D, \\s and \\S to perform ASCII-only matching instead of full Unicode matching\n",
    "matches = re.finditer(r'(\\S*)?dia(\\S*)?', texto, re.M | re.I)\n",
    "print([match.group() for match in matches])\n",
    "matches = re.finditer(r'([\\wÀ-ú-]*)?dia([\\wÀ-ú-]*)?', texto, re.M | re.I )\n",
    "print([match.group() for match in matches])"
   ]
  },
  {
   "cell_type": "code",
   "execution_count": 96,
   "id": "79edfc34-6c12-454d-8ba6-6be9b28ce8eb",
   "metadata": {},
   "outputs": [
    {
     "name": "stdout",
     "output_type": "stream",
     "text": [
      "['dia', 'diatônico', 'diafragma', 'dia']\n",
      "['média', 'wikipédia', 'melodia']\n",
      "['dia', 'dia']\n",
      "['radial']\n"
     ]
    }
   ],
   "source": []
  }
 ],
 "metadata": {
  "kernelspec": {
   "display_name": "Python 3 (ipykernel)",
   "language": "python",
   "name": "python3"
  },
  "language_info": {
   "codemirror_mode": {
    "name": "ipython",
    "version": 3
   },
   "file_extension": ".py",
   "mimetype": "text/x-python",
   "name": "python",
   "nbconvert_exporter": "python",
   "pygments_lexer": "ipython3",
   "version": "3.8.8"
  }
 },
 "nbformat": 4,
 "nbformat_minor": 5
}
