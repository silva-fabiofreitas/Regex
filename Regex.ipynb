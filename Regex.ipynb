{
 "cells": [
  {
   "cell_type": "code",
   "execution_count": 1,
   "id": "f8c08431-5ae6-4666-9838-9874f4a4212a",
   "metadata": {},
   "outputs": [],
   "source": [
    "import re"
   ]
  },
  {
   "cell_type": "markdown",
   "id": "27d36501-22eb-42a4-8697-096c668620af",
   "metadata": {},
   "source": [
    "### Meta-caracter ."
   ]
  },
  {
   "cell_type": "code",
   "execution_count": 52,
   "id": "0f33a453-0e11-4435-aeea-7a032bba3512",
   "metadata": {},
   "outputs": [
    {
     "name": "stdout",
     "output_type": "stream",
     "text": [
      "['1,2']\n",
      "[]\n",
      "['1,2,']\n",
      "------------------\n",
      "['8.3', '8.8']\n",
      "['8.3', '7.1', '8.8', '0.0']\n",
      "------------------\n",
      "['.mp3', '.mp3', '.mp3', '.mp3']\n"
     ]
    }
   ],
   "source": [
    "texto = '1,2,3,4,5,6,7,8,9'\n",
    "\n",
    "print(re.findall('1.2', texto, flags=re.I))\n",
    "print(re.findall('1..2', texto, flags=re.I))\n",
    "print(re.findall('1..,', texto, flags=re.I))\n",
    "\n",
    "print('------------------')\n",
    "notas = '8.3,7.1,8.8,10.0'\n",
    "print(re.findall('8..', notas, flags=re.I))\n",
    "print(re.findall('.\\..', notas, flags=re.I))\n",
    "\n",
    "print('------------------')\n",
    "texto = 'lista de arquivos mp3: jazz.mp3, rocky.mp3, podcast.mp3, blues.mp3'\n",
    "print(re.findall('\\.mp3', texto, flags=re.I))\n"
   ]
  },
  {
   "cell_type": "markdown",
   "id": "c75a8b35-d1e0-4a49-ba9d-4011423c556a",
   "metadata": {},
   "source": [
    "## Caractere brancos"
   ]
  },
  {
   "cell_type": "code",
   "execution_count": 73,
   "id": "0959d0e5-42f8-430f-a04f-b23af41d1d21",
   "metadata": {},
   "outputs": [
    {
     "name": "stdout",
     "output_type": "stream",
     "text": [
      "['ca\\tr\\nr\\to s!']\n"
     ]
    }
   ],
   "source": [
    "texto = \"\"\"\n",
    "ca\tr\n",
    "r\to s!\n",
    "\"\"\"\n",
    "    \n",
    "print(re.findall(\"ca\\tr\\nr\\to\\ss!\", texto, flags=re.I))"
   ]
  },
  {
   "cell_type": "code",
   "execution_count": 78,
   "id": "fb3d3c15-71bf-48dd-bdd7-8270593dbc60",
   "metadata": {},
   "outputs": [
    {
     "name": "stdout",
     "output_type": "stream",
     "text": [
      "['a   b']\n",
      "['a   b']\n",
      "['a   b']\n",
      "['a   b']\n"
     ]
    }
   ],
   "source": [
    "texto = 'a   b'\n",
    "    \n",
    "print(re.findall('a\\s\\s\\sb', texto, flags=re.I))\n",
    "print(re.findall('a\\s+b', texto, flags=re.I))\n",
    "print(re.findall('a {3}b', texto, flags=re.I))\n",
    "print(re.findall('a\\s{3}b', texto, flags=re.I))"
   ]
  },
  {
   "cell_type": "markdown",
   "id": "8ba5c6f1-ba8c-48c2-a6c2-f12011bc572b",
   "metadata": {},
   "source": [
    "## Meta-caracteres:Pipe(Ou)"
   ]
  },
  {
   "cell_type": "code",
   "execution_count": 79,
   "id": "e0a44778-e1c0-43a4-902f-e747cb35d9de",
   "metadata": {},
   "outputs": [
    {
     "data": {
      "text/plain": [
       "['sim', 'não', 'não', 'sei']"
      ]
     },
     "execution_count": 79,
     "metadata": {},
     "output_type": "execute_result"
    }
   ],
   "source": [
    "texto = 'voccê precisa responder sim, não ou não sei'\n",
    "\n",
    "re.findall('sim|não|sei', texto)"
   ]
  },
  {
   "cell_type": "markdown",
   "id": "883c472d-0c4b-4aeb-aa17-92e1f79da1b0",
   "metadata": {},
   "source": [
    "## Entendendo o problema com ponto\n"
   ]
  },
  {
   "cell_type": "code",
   "execution_count": 90,
   "id": "a2c5cf82-c167-4c77-ab5e-8c71d9b53f95",
   "metadata": {},
   "outputs": [
    {
     "name": "stdout",
     "output_type": "stream",
     "text": [
      "['Bom', 'dia']\n",
      "['Bom\\ndia']\n"
     ]
    }
   ],
   "source": [
    "texto = 'Bom\\ndia'\n",
    "# O pnto não engloba o \\n\n",
    "print(re.findall('...', texto))\n",
    "# Em python pode usar a flag abaixo\n",
    "print(re.findall('.......', texto, flags=re.I|re.S))"
   ]
  },
  {
   "cell_type": "markdown",
   "id": "a44ee4d8-307f-4341-a96e-14577e1b5c39",
   "metadata": {},
   "source": [
    "## Unicode\n",
    "Unicode é o padrão de codificação de caracteres  \n",
    "Quantidade de bits variável e expansivel   \n",
    "Suporta mais de 1.000.000 de caracteres\n"
   ]
  },
  {
   "cell_type": "code",
   "execution_count": 13,
   "id": "005fea1c-6777-4672-b5ca-258d140db3bf",
   "metadata": {},
   "outputs": [
    {
     "name": "stdout",
     "output_type": "stream",
     "text": [
      "['ø', 'µ']\n"
     ]
    }
   ],
   "source": [
    "texto = 'øalfaµ'\n",
    "\n",
    "print(re.findall('\\u00B5|ø', texto))\n"
   ]
  },
  {
   "cell_type": "markdown",
   "id": "bbf97e3a-478d-467f-8b0e-70cf7141588d",
   "metadata": {},
   "source": [
    "# Conjuntos\n",
    "Para definir uma classe ou conjunto de caracteres usas-e [ ]"
   ]
  },
  {
   "cell_type": "code",
   "execution_count": 18,
   "id": "9a63b4aa-605e-4351-9eff-014c3b156c63",
   "metadata": {},
   "outputs": [
    {
     "name": "stdout",
     "output_type": "stream",
     "text": [
      "['1', '2', '3']\n",
      "['Fá', 'nã', 'na', 'Fl']\n"
     ]
    }
   ],
   "source": [
    "texto = '1,2,3,4 av['\n",
    "print(re.findall('[0123]', texto))\n",
    "texto = 'Fábio não vai na moto com Flavio'\n",
    "print(re.findall('n[aã]|F[ál]', texto))"
   ]
  },
  {
   "cell_type": "markdown",
   "id": "415512b1-9a3a-4455-9248-3659ff5b8cd7",
   "metadata": {},
   "source": [
    "## Intervalos"
   ]
  },
  {
   "cell_type": "code",
   "execution_count": 23,
   "id": "5d150dbf-d0c5-4ad3-aac0-9f91f39fbff0",
   "metadata": {},
   "outputs": [
    {
     "name": "stdout",
     "output_type": "stream",
     "text": [
      "['a', 'b', 'c', 'd', 'e', 'f']\n",
      "['b', 'c', 'd']\n",
      "['2', '3']\n",
      "['1', '2', '3', 'e', 'f']\n"
     ]
    }
   ],
   "source": [
    "texto = '1,2,3, ab,c,d[e] f'\n",
    "print(re.findall('[A-Z]', texto, flags=re.I))\n",
    "print(re.findall('[b-d]', texto,))\n",
    "print(re.findall('[2-4]', texto,))\n",
    "print(re.findall('[e-f1-3]', texto,))"
   ]
  },
  {
   "cell_type": "markdown",
   "id": "89552556-05e0-4d9a-bb83-bc9c4e0f93a4",
   "metadata": {},
   "source": [
    "## Conjuntos e Meta-caracteres"
   ]
  },
  {
   "cell_type": "code",
   "execution_count": 27,
   "id": "3a09bf87-1e0f-464f-ac30-87f0e76397f0",
   "metadata": {},
   "outputs": [
    {
     "name": "stdout",
     "output_type": "stream",
     "text": [
      "['.', '$', '+', '*', '?', '-']\n",
      "['.', '$', '+', '*', '?', '-']\n",
      "['$', '?', '-']\n",
      "['$', '?', '-']\n"
     ]
    }
   ],
   "source": [
    "texto = '.$+*?-'\n",
    "print(re.findall('[.$+*?-]', texto)) # Não precisa de escape dentro do conjunto, exceto alguns caracteres\n",
    "print(re.findall('[$-?]', texto)) #  Aceita intervalo\n",
    "\n",
    "# Não é intervalo\n",
    "print(re.findall('[$\\-?]', texto))\n",
    "print(re.findall('[-$?]', texto))"
   ]
  },
  {
   "cell_type": "code",
   "execution_count": null,
   "id": "440e126f-707a-4d76-b79a-ef5cea38f6fa",
   "metadata": {},
   "outputs": [],
   "source": [
    "#"
   ]
  },
  {
   "cell_type": "markdown",
   "id": "9b43437c-7d0e-4317-ae2a-5dd1c56f9fba",
   "metadata": {},
   "source": [
    "##"
   ]
  }
 ],
 "metadata": {
  "kernelspec": {
   "display_name": "Python 3 (ipykernel)",
   "language": "python",
   "name": "python3"
  },
  "language_info": {
   "codemirror_mode": {
    "name": "ipython",
    "version": 3
   },
   "file_extension": ".py",
   "mimetype": "text/x-python",
   "name": "python",
   "nbconvert_exporter": "python",
   "pygments_lexer": "ipython3",
   "version": "3.8.8"
  }
 },
 "nbformat": 4,
 "nbformat_minor": 5
}
